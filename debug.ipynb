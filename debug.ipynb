{
 "cells": [
  {
   "cell_type": "code",
   "execution_count": 1,
   "metadata": {},
   "outputs": [],
   "source": [
    "%load_ext autoreload\n",
    "%autoreload 2"
   ]
  },
  {
   "cell_type": "code",
   "execution_count": 2,
   "metadata": {},
   "outputs": [],
   "source": [
    "import tensorflow_datasets as tfds\n",
    "import tensorflow as tf\n",
    "\n",
    "import time\n",
    "import numpy as np\n",
    "import matplotlib.pyplot as plt\n",
    "\n",
    "from ut_model import *\n",
    "from data_pipeline import input_fn"
   ]
  },
  {
   "cell_type": "code",
   "execution_count": 3,
   "metadata": {},
   "outputs": [
    {
     "data": {
      "text/plain": [
       "'2.1.0'"
      ]
     },
     "execution_count": 3,
     "metadata": {},
     "output_type": "execute_result"
    }
   ],
   "source": [
    "tf.__version__"
   ]
  },
  {
   "cell_type": "code",
   "execution_count": 4,
   "metadata": {},
   "outputs": [],
   "source": [
    "data_dir = \"/media/akanyaani/Disk2/git_repo/test_data\""
   ]
  },
  {
   "cell_type": "code",
   "execution_count": 5,
   "metadata": {},
   "outputs": [],
   "source": [
    "train_dataset, test_dataset = input_fn(batch_size=16)\n",
    "\n",
    "#train_dataset = np.random.randint(low=0,high=30000,size=(10,32, 48))"
   ]
  },
  {
   "cell_type": "code",
   "execution_count": 6,
   "metadata": {},
   "outputs": [
    {
     "name": "stdout",
     "output_type": "stream",
     "text": [
      "(<tf.Tensor: shape=(16, 8), dtype=int64, numpy=\n",
      "array([[30138,     7, 23006,     8,  1025,     2, 30139,     0],\n",
      "       [30138,   126,   133, 26890,     2, 30139,     0,     0],\n",
      "       [30138,     6,    61,   517, 12521,     2, 30139,     0],\n",
      "       [30138,    69,    97,   151, 30139,     0,     0,     0],\n",
      "       [30138,  3160,    22,    35,  9993,     2, 30139,     0],\n",
      "       [30138,   106,     1,    79,   101,   212,    28, 30139],\n",
      "       [30138,     6,    60,   195,     4,   997,     2, 30139],\n",
      "       [30138,   231,    32, 23131,     2, 30139,     0,     0],\n",
      "       [30138,     6,  4024,    31,    94,     2, 30139,     0],\n",
      "       [30138,    69,    97,    63,   333,     2, 30139,     0],\n",
      "       [30138,    69,    97,   151, 30139,     0,     0,     0],\n",
      "       [30138,  3253, 25097, 14343, 29997,     2, 30139,     0],\n",
      "       [30138,  6988, 29927,    13,  1405,  3691,     2, 30139],\n",
      "       [30138,    13,  5281, 11630, 29927,  3445,     2, 30139],\n",
      "       [30138,     8,  3646,     2, 30139,     0,     0,     0],\n",
      "       [30138,    69,    97,   151, 30139,     0,     0,     0]])>, <tf.Tensor: shape=(16, 8), dtype=int64, numpy=\n",
      "array([[28543,  2802, 10218,    22,  4733,     2, 28544,     0],\n",
      "       [28543,    26,   106,  4939,     2, 28544,     0,     0],\n",
      "       [28543,     4,    14,    69,   197,     2, 28544,     0],\n",
      "       [28543,    94,   128,   177, 28544,     0,     0,     0],\n",
      "       [28543,   146,    15,    21,  2711,     2, 28544,     0],\n",
      "       [28543,    18,    90,    22,    62,    33, 28544,     0],\n",
      "       [28543,     4,    14,    39,   123,   646,     2, 28544],\n",
      "       [28543,   101,     8,    41, 15271,     2, 28544,     0],\n",
      "       [28543,     4,     9,   582,   315,   127,     2, 28544],\n",
      "       [28543,    94, 13609,    89,  2218,     2, 28544,     0],\n",
      "       [28543,    94,   128,   177, 28544,     0,     0,     0],\n",
      "       [28543,   101,     8,    41, 27046,     2, 28544,     0],\n",
      "       [28543,    37,  2947,  2289,     2, 28544,     0,     0],\n",
      "       [28543,     3,  4841,  2134,   154,     2, 28544,     0],\n",
      "       [28543,    19,     8,    12, 11390,     2, 28544,     0],\n",
      "       [28543,    94,   128,   177, 28544,     0,     0,     0]])>)\n"
     ]
    }
   ],
   "source": [
    "for i in train_dataset:\n",
    "    print(i)\n",
    "    break"
   ]
  },
  {
   "cell_type": "code",
   "execution_count": 7,
   "metadata": {},
   "outputs": [],
   "source": [
    "model = UTModel(4,\n",
    "                128,\n",
    "                4,\n",
    "                512,\n",
    "                32,\n",
    "                optimizer=\"adam\",\n",
    "                learning_rate=3e-5)\n",
    "\n",
    "model.mirrored_strategy = None"
   ]
  },
  {
   "cell_type": "code",
   "execution_count": 8,
   "metadata": {},
   "outputs": [
    {
     "name": "stdout",
     "output_type": "stream",
     "text": [
      "Initializing model from scratch..........\n"
     ]
    },
    {
     "data": {
      "text/plain": [
       "(<tensorflow.python.ops.summary_ops_v2.ResourceSummaryWriter at 0x7f5650080ad0>,\n",
       " <tensorflow.python.ops.summary_ops_v2.ResourceSummaryWriter at 0x7f56280e6dd0>)"
      ]
     },
     "execution_count": 8,
     "metadata": {},
     "output_type": "execute_result"
    }
   ],
   "source": [
    "model.create_optimizer()\n",
    "model.create_checkpoint_manager(data_dir)\n",
    "model.create_summary_writer(data_dir)"
   ]
  },
  {
   "cell_type": "code",
   "execution_count": 9,
   "metadata": {
    "scrolled": true
   },
   "outputs": [
    {
     "name": "stdout",
     "output_type": "stream",
     "text": [
      "Executing time\n",
      "Executing time\n",
      "Executing time\n",
      "Executing time\n",
      "Executing Decoder Call...............\n",
      "Executing time\n",
      "Executing time\n",
      "Executing time\n",
      "Executing time\n",
      "Mini Batch Loss :-  Tensor(\"Mean:0\", shape=(), dtype=float32)\n",
      "Executing time\n",
      "Executing time\n",
      "Executing time\n",
      "Executing time\n",
      "Executing Decoder Call...............\n",
      "Executing time\n",
      "Executing time\n",
      "Executing time\n",
      "Executing time\n",
      "Mini Batch Loss :-  Tensor(\"Mean:0\", shape=(), dtype=float32)\n"
     ]
    },
    {
     "ename": "InvalidArgumentError",
     "evalue": "2 root error(s) found.\n  (0) Invalid argument:  In[0] mismatch In[1] shape: 8 vs. 7: [16,4,8,8] [16,4,7,32] 0 0\n\t [[node ut_model/decoder/encoder_0/decoder_layer/multi_head_attention_2/MatMul_1 (defined at /media/akanyaani/Disk2/git_repo/universal-transformer-tensorflow2.0/layers/attention_layer.py:38) ]]\n\t [[Mean/_334]]\n  (1) Invalid argument:  In[0] mismatch In[1] shape: 8 vs. 7: [16,4,8,8] [16,4,7,32] 0 0\n\t [[node ut_model/decoder/encoder_0/decoder_layer/multi_head_attention_2/MatMul_1 (defined at /media/akanyaani/Disk2/git_repo/universal-transformer-tensorflow2.0/layers/attention_layer.py:38) ]]\n0 successful operations.\n0 derived errors ignored. [Op:__inference_train_step_432303]\n\nErrors may have originated from an input operation.\nInput Source operations connected to node ut_model/decoder/encoder_0/decoder_layer/multi_head_attention_2/MatMul_1:\n ut_model/decoder/encoder_0/decoder_layer/multi_head_attention_2/transpose_2 (defined at /media/akanyaani/Disk2/git_repo/universal-transformer-tensorflow2.0/layers/attention_layer.py:45)\t\n ut_model/decoder/encoder_0/decoder_layer/multi_head_attention_2/attn_dropout/mul_1 (defined at /media/akanyaani/Disk2/git_repo/universal-transformer-tensorflow2.0/layers/attention_layer.py:37)\n\nInput Source operations connected to node ut_model/decoder/encoder_0/decoder_layer/multi_head_attention_2/MatMul_1:\n ut_model/decoder/encoder_0/decoder_layer/multi_head_attention_2/transpose_2 (defined at /media/akanyaani/Disk2/git_repo/universal-transformer-tensorflow2.0/layers/attention_layer.py:45)\t\n ut_model/decoder/encoder_0/decoder_layer/multi_head_attention_2/attn_dropout/mul_1 (defined at /media/akanyaani/Disk2/git_repo/universal-transformer-tensorflow2.0/layers/attention_layer.py:37)\n\nFunction call stack:\ntrain_step -> train_step\n",
     "output_type": "error",
     "traceback": [
      "\u001b[0;31m---------------------------------------------------------------------------\u001b[0m",
      "\u001b[0;31mInvalidArgumentError\u001b[0m                      Traceback (most recent call last)",
      "\u001b[0;32m<ipython-input-9-533c745734f2>\u001b[0m in \u001b[0;36m<module>\u001b[0;34m\u001b[0m\n\u001b[0;32m----> 1\u001b[0;31m \u001b[0mmodel\u001b[0m\u001b[0;34m.\u001b[0m\u001b[0mfit\u001b[0m\u001b[0;34m(\u001b[0m\u001b[0;34m[\u001b[0m\u001b[0mtrain_dataset\u001b[0m\u001b[0;34m,\u001b[0m \u001b[0mtrain_dataset\u001b[0m\u001b[0;34m]\u001b[0m\u001b[0;34m)\u001b[0m\u001b[0;34m\u001b[0m\u001b[0;34m\u001b[0m\u001b[0m\n\u001b[0m",
      "\u001b[0;32m/media/akanyaani/Disk2/git_repo/universal-transformer-tensorflow2.0/ut_model.py\u001b[0m in \u001b[0;36mfit\u001b[0;34m(self, dataset)\u001b[0m\n\u001b[1;32m    216\u001b[0m                                 \u001b[0;31m# print(targets.numpy().shape)\u001b[0m\u001b[0;34m\u001b[0m\u001b[0;34m\u001b[0m\u001b[0;34m\u001b[0m\u001b[0m\n\u001b[1;32m    217\u001b[0m \u001b[0;34m\u001b[0m\u001b[0m\n\u001b[0;32m--> 218\u001b[0;31m                                 \u001b[0mtrain_loss\u001b[0m\u001b[0;34m,\u001b[0m \u001b[0mtrain_acc\u001b[0m \u001b[0;34m=\u001b[0m \u001b[0mself\u001b[0m\u001b[0;34m.\u001b[0m\u001b[0mtrain_step\u001b[0m\u001b[0;34m(\u001b[0m\u001b[0minputs\u001b[0m\u001b[0;34m,\u001b[0m \u001b[0mtargets\u001b[0m\u001b[0;34m)\u001b[0m\u001b[0;34m\u001b[0m\u001b[0;34m\u001b[0m\u001b[0m\n\u001b[0m\u001b[1;32m    219\u001b[0m                                 \u001b[0;32mif\u001b[0m \u001b[0mstep\u001b[0m \u001b[0;34m%\u001b[0m \u001b[0;36m10\u001b[0m \u001b[0;34m==\u001b[0m \u001b[0;36m0\u001b[0m\u001b[0;34m:\u001b[0m\u001b[0;34m\u001b[0m\u001b[0;34m\u001b[0m\u001b[0m\n\u001b[1;32m    220\u001b[0m \t\t\t\t\tprint('Step {} Train_Loss {:.4f} Train_Accuracy {:.4f}'.format(\n",
      "\u001b[0;32m~/anaconda3/lib/python3.7/site-packages/tensorflow_core/python/eager/def_function.py\u001b[0m in \u001b[0;36m__call__\u001b[0;34m(self, *args, **kwds)\u001b[0m\n\u001b[1;32m    566\u001b[0m         \u001b[0mxla_context\u001b[0m\u001b[0;34m.\u001b[0m\u001b[0mExit\u001b[0m\u001b[0;34m(\u001b[0m\u001b[0;34m)\u001b[0m\u001b[0;34m\u001b[0m\u001b[0;34m\u001b[0m\u001b[0m\n\u001b[1;32m    567\u001b[0m     \u001b[0;32melse\u001b[0m\u001b[0;34m:\u001b[0m\u001b[0;34m\u001b[0m\u001b[0;34m\u001b[0m\u001b[0m\n\u001b[0;32m--> 568\u001b[0;31m       \u001b[0mresult\u001b[0m \u001b[0;34m=\u001b[0m \u001b[0mself\u001b[0m\u001b[0;34m.\u001b[0m\u001b[0m_call\u001b[0m\u001b[0;34m(\u001b[0m\u001b[0;34m*\u001b[0m\u001b[0margs\u001b[0m\u001b[0;34m,\u001b[0m \u001b[0;34m**\u001b[0m\u001b[0mkwds\u001b[0m\u001b[0;34m)\u001b[0m\u001b[0;34m\u001b[0m\u001b[0;34m\u001b[0m\u001b[0m\n\u001b[0m\u001b[1;32m    569\u001b[0m \u001b[0;34m\u001b[0m\u001b[0m\n\u001b[1;32m    570\u001b[0m     \u001b[0;32mif\u001b[0m \u001b[0mtracing_count\u001b[0m \u001b[0;34m==\u001b[0m \u001b[0mself\u001b[0m\u001b[0;34m.\u001b[0m\u001b[0m_get_tracing_count\u001b[0m\u001b[0;34m(\u001b[0m\u001b[0;34m)\u001b[0m\u001b[0;34m:\u001b[0m\u001b[0;34m\u001b[0m\u001b[0;34m\u001b[0m\u001b[0m\n",
      "\u001b[0;32m~/anaconda3/lib/python3.7/site-packages/tensorflow_core/python/eager/def_function.py\u001b[0m in \u001b[0;36m_call\u001b[0;34m(self, *args, **kwds)\u001b[0m\n\u001b[1;32m    630\u001b[0m         \u001b[0;31m# Lifting succeeded, so variables are initialized and we can run the\u001b[0m\u001b[0;34m\u001b[0m\u001b[0;34m\u001b[0m\u001b[0;34m\u001b[0m\u001b[0m\n\u001b[1;32m    631\u001b[0m         \u001b[0;31m# stateless function.\u001b[0m\u001b[0;34m\u001b[0m\u001b[0;34m\u001b[0m\u001b[0;34m\u001b[0m\u001b[0m\n\u001b[0;32m--> 632\u001b[0;31m         \u001b[0;32mreturn\u001b[0m \u001b[0mself\u001b[0m\u001b[0;34m.\u001b[0m\u001b[0m_stateless_fn\u001b[0m\u001b[0;34m(\u001b[0m\u001b[0;34m*\u001b[0m\u001b[0margs\u001b[0m\u001b[0;34m,\u001b[0m \u001b[0;34m**\u001b[0m\u001b[0mkwds\u001b[0m\u001b[0;34m)\u001b[0m\u001b[0;34m\u001b[0m\u001b[0;34m\u001b[0m\u001b[0m\n\u001b[0m\u001b[1;32m    633\u001b[0m     \u001b[0;32melse\u001b[0m\u001b[0;34m:\u001b[0m\u001b[0;34m\u001b[0m\u001b[0;34m\u001b[0m\u001b[0m\n\u001b[1;32m    634\u001b[0m       \u001b[0mcanon_args\u001b[0m\u001b[0;34m,\u001b[0m \u001b[0mcanon_kwds\u001b[0m \u001b[0;34m=\u001b[0m\u001b[0;31m \u001b[0m\u001b[0;31m\\\u001b[0m\u001b[0;34m\u001b[0m\u001b[0;34m\u001b[0m\u001b[0m\n",
      "\u001b[0;32m~/anaconda3/lib/python3.7/site-packages/tensorflow_core/python/eager/function.py\u001b[0m in \u001b[0;36m__call__\u001b[0;34m(self, *args, **kwargs)\u001b[0m\n\u001b[1;32m   2361\u001b[0m     \u001b[0;32mwith\u001b[0m \u001b[0mself\u001b[0m\u001b[0;34m.\u001b[0m\u001b[0m_lock\u001b[0m\u001b[0;34m:\u001b[0m\u001b[0;34m\u001b[0m\u001b[0;34m\u001b[0m\u001b[0m\n\u001b[1;32m   2362\u001b[0m       \u001b[0mgraph_function\u001b[0m\u001b[0;34m,\u001b[0m \u001b[0margs\u001b[0m\u001b[0;34m,\u001b[0m \u001b[0mkwargs\u001b[0m \u001b[0;34m=\u001b[0m \u001b[0mself\u001b[0m\u001b[0;34m.\u001b[0m\u001b[0m_maybe_define_function\u001b[0m\u001b[0;34m(\u001b[0m\u001b[0margs\u001b[0m\u001b[0;34m,\u001b[0m \u001b[0mkwargs\u001b[0m\u001b[0;34m)\u001b[0m\u001b[0;34m\u001b[0m\u001b[0;34m\u001b[0m\u001b[0m\n\u001b[0;32m-> 2363\u001b[0;31m     \u001b[0;32mreturn\u001b[0m \u001b[0mgraph_function\u001b[0m\u001b[0;34m.\u001b[0m\u001b[0m_filtered_call\u001b[0m\u001b[0;34m(\u001b[0m\u001b[0margs\u001b[0m\u001b[0;34m,\u001b[0m \u001b[0mkwargs\u001b[0m\u001b[0;34m)\u001b[0m  \u001b[0;31m# pylint: disable=protected-access\u001b[0m\u001b[0;34m\u001b[0m\u001b[0;34m\u001b[0m\u001b[0m\n\u001b[0m\u001b[1;32m   2364\u001b[0m \u001b[0;34m\u001b[0m\u001b[0m\n\u001b[1;32m   2365\u001b[0m   \u001b[0;34m@\u001b[0m\u001b[0mproperty\u001b[0m\u001b[0;34m\u001b[0m\u001b[0;34m\u001b[0m\u001b[0m\n",
      "\u001b[0;32m~/anaconda3/lib/python3.7/site-packages/tensorflow_core/python/eager/function.py\u001b[0m in \u001b[0;36m_filtered_call\u001b[0;34m(self, args, kwargs)\u001b[0m\n\u001b[1;32m   1609\u001b[0m          if isinstance(t, (ops.Tensor,\n\u001b[1;32m   1610\u001b[0m                            resource_variable_ops.BaseResourceVariable))),\n\u001b[0;32m-> 1611\u001b[0;31m         self.captured_inputs)\n\u001b[0m\u001b[1;32m   1612\u001b[0m \u001b[0;34m\u001b[0m\u001b[0m\n\u001b[1;32m   1613\u001b[0m   \u001b[0;32mdef\u001b[0m \u001b[0m_call_flat\u001b[0m\u001b[0;34m(\u001b[0m\u001b[0mself\u001b[0m\u001b[0;34m,\u001b[0m \u001b[0margs\u001b[0m\u001b[0;34m,\u001b[0m \u001b[0mcaptured_inputs\u001b[0m\u001b[0;34m,\u001b[0m \u001b[0mcancellation_manager\u001b[0m\u001b[0;34m=\u001b[0m\u001b[0;32mNone\u001b[0m\u001b[0;34m)\u001b[0m\u001b[0;34m:\u001b[0m\u001b[0;34m\u001b[0m\u001b[0;34m\u001b[0m\u001b[0m\n",
      "\u001b[0;32m~/anaconda3/lib/python3.7/site-packages/tensorflow_core/python/eager/function.py\u001b[0m in \u001b[0;36m_call_flat\u001b[0;34m(self, args, captured_inputs, cancellation_manager)\u001b[0m\n\u001b[1;32m   1690\u001b[0m       \u001b[0;31m# No tape is watching; skip to running the function.\u001b[0m\u001b[0;34m\u001b[0m\u001b[0;34m\u001b[0m\u001b[0;34m\u001b[0m\u001b[0m\n\u001b[1;32m   1691\u001b[0m       return self._build_call_outputs(self._inference_function.call(\n\u001b[0;32m-> 1692\u001b[0;31m           ctx, args, cancellation_manager=cancellation_manager))\n\u001b[0m\u001b[1;32m   1693\u001b[0m     forward_backward = self._select_forward_and_backward_functions(\n\u001b[1;32m   1694\u001b[0m         \u001b[0margs\u001b[0m\u001b[0;34m,\u001b[0m\u001b[0;34m\u001b[0m\u001b[0;34m\u001b[0m\u001b[0m\n",
      "\u001b[0;32m~/anaconda3/lib/python3.7/site-packages/tensorflow_core/python/eager/function.py\u001b[0m in \u001b[0;36mcall\u001b[0;34m(self, ctx, args, cancellation_manager)\u001b[0m\n\u001b[1;32m    543\u001b[0m               \u001b[0minputs\u001b[0m\u001b[0;34m=\u001b[0m\u001b[0margs\u001b[0m\u001b[0;34m,\u001b[0m\u001b[0;34m\u001b[0m\u001b[0;34m\u001b[0m\u001b[0m\n\u001b[1;32m    544\u001b[0m               \u001b[0mattrs\u001b[0m\u001b[0;34m=\u001b[0m\u001b[0;34m(\u001b[0m\u001b[0;34m\"executor_type\"\u001b[0m\u001b[0;34m,\u001b[0m \u001b[0mexecutor_type\u001b[0m\u001b[0;34m,\u001b[0m \u001b[0;34m\"config_proto\"\u001b[0m\u001b[0;34m,\u001b[0m \u001b[0mconfig\u001b[0m\u001b[0;34m)\u001b[0m\u001b[0;34m,\u001b[0m\u001b[0;34m\u001b[0m\u001b[0;34m\u001b[0m\u001b[0m\n\u001b[0;32m--> 545\u001b[0;31m               ctx=ctx)\n\u001b[0m\u001b[1;32m    546\u001b[0m         \u001b[0;32melse\u001b[0m\u001b[0;34m:\u001b[0m\u001b[0;34m\u001b[0m\u001b[0;34m\u001b[0m\u001b[0m\n\u001b[1;32m    547\u001b[0m           outputs = execute.execute_with_cancellation(\n",
      "\u001b[0;32m~/anaconda3/lib/python3.7/site-packages/tensorflow_core/python/eager/execute.py\u001b[0m in \u001b[0;36mquick_execute\u001b[0;34m(op_name, num_outputs, inputs, attrs, ctx, name)\u001b[0m\n\u001b[1;32m     65\u001b[0m     \u001b[0;32melse\u001b[0m\u001b[0;34m:\u001b[0m\u001b[0;34m\u001b[0m\u001b[0;34m\u001b[0m\u001b[0m\n\u001b[1;32m     66\u001b[0m       \u001b[0mmessage\u001b[0m \u001b[0;34m=\u001b[0m \u001b[0me\u001b[0m\u001b[0;34m.\u001b[0m\u001b[0mmessage\u001b[0m\u001b[0;34m\u001b[0m\u001b[0;34m\u001b[0m\u001b[0m\n\u001b[0;32m---> 67\u001b[0;31m     \u001b[0msix\u001b[0m\u001b[0;34m.\u001b[0m\u001b[0mraise_from\u001b[0m\u001b[0;34m(\u001b[0m\u001b[0mcore\u001b[0m\u001b[0;34m.\u001b[0m\u001b[0m_status_to_exception\u001b[0m\u001b[0;34m(\u001b[0m\u001b[0me\u001b[0m\u001b[0;34m.\u001b[0m\u001b[0mcode\u001b[0m\u001b[0;34m,\u001b[0m \u001b[0mmessage\u001b[0m\u001b[0;34m)\u001b[0m\u001b[0;34m,\u001b[0m \u001b[0;32mNone\u001b[0m\u001b[0;34m)\u001b[0m\u001b[0;34m\u001b[0m\u001b[0;34m\u001b[0m\u001b[0m\n\u001b[0m\u001b[1;32m     68\u001b[0m   \u001b[0;32mexcept\u001b[0m \u001b[0mTypeError\u001b[0m \u001b[0;32mas\u001b[0m \u001b[0me\u001b[0m\u001b[0;34m:\u001b[0m\u001b[0;34m\u001b[0m\u001b[0;34m\u001b[0m\u001b[0m\n\u001b[1;32m     69\u001b[0m     keras_symbolic_tensors = [\n",
      "\u001b[0;32m~/.local/lib/python3.7/site-packages/six.py\u001b[0m in \u001b[0;36mraise_from\u001b[0;34m(value, from_value)\u001b[0m\n",
      "\u001b[0;31mInvalidArgumentError\u001b[0m: 2 root error(s) found.\n  (0) Invalid argument:  In[0] mismatch In[1] shape: 8 vs. 7: [16,4,8,8] [16,4,7,32] 0 0\n\t [[node ut_model/decoder/encoder_0/decoder_layer/multi_head_attention_2/MatMul_1 (defined at /media/akanyaani/Disk2/git_repo/universal-transformer-tensorflow2.0/layers/attention_layer.py:38) ]]\n\t [[Mean/_334]]\n  (1) Invalid argument:  In[0] mismatch In[1] shape: 8 vs. 7: [16,4,8,8] [16,4,7,32] 0 0\n\t [[node ut_model/decoder/encoder_0/decoder_layer/multi_head_attention_2/MatMul_1 (defined at /media/akanyaani/Disk2/git_repo/universal-transformer-tensorflow2.0/layers/attention_layer.py:38) ]]\n0 successful operations.\n0 derived errors ignored. [Op:__inference_train_step_432303]\n\nErrors may have originated from an input operation.\nInput Source operations connected to node ut_model/decoder/encoder_0/decoder_layer/multi_head_attention_2/MatMul_1:\n ut_model/decoder/encoder_0/decoder_layer/multi_head_attention_2/transpose_2 (defined at /media/akanyaani/Disk2/git_repo/universal-transformer-tensorflow2.0/layers/attention_layer.py:45)\t\n ut_model/decoder/encoder_0/decoder_layer/multi_head_attention_2/attn_dropout/mul_1 (defined at /media/akanyaani/Disk2/git_repo/universal-transformer-tensorflow2.0/layers/attention_layer.py:37)\n\nInput Source operations connected to node ut_model/decoder/encoder_0/decoder_layer/multi_head_attention_2/MatMul_1:\n ut_model/decoder/encoder_0/decoder_layer/multi_head_attention_2/transpose_2 (defined at /media/akanyaani/Disk2/git_repo/universal-transformer-tensorflow2.0/layers/attention_layer.py:45)\t\n ut_model/decoder/encoder_0/decoder_layer/multi_head_attention_2/attn_dropout/mul_1 (defined at /media/akanyaani/Disk2/git_repo/universal-transformer-tensorflow2.0/layers/attention_layer.py:37)\n\nFunction call stack:\ntrain_step -> train_step\n"
     ]
    }
   ],
   "source": [
    "model.fit([train_dataset, train_dataset])"
   ]
  },
  {
   "cell_type": "code",
   "execution_count": null,
   "metadata": {},
   "outputs": [],
   "source": [
    "a = tf.constant([[1]], tf.int32)"
   ]
  },
  {
   "cell_type": "code",
   "execution_count": null,
   "metadata": {},
   "outputs": [],
   "source": [
    "tf.tile(a, [32, 10])"
   ]
  },
  {
   "cell_type": "code",
   "execution_count": null,
   "metadata": {},
   "outputs": [],
   "source": []
  }
 ],
 "metadata": {
  "kernelspec": {
   "display_name": "Python 3",
   "language": "python",
   "name": "python3"
  },
  "language_info": {
   "codemirror_mode": {
    "name": "ipython",
    "version": 3
   },
   "file_extension": ".py",
   "mimetype": "text/x-python",
   "name": "python",
   "nbconvert_exporter": "python",
   "pygments_lexer": "ipython3",
   "version": "3.7.4"
  }
 },
 "nbformat": 4,
 "nbformat_minor": 2
}
