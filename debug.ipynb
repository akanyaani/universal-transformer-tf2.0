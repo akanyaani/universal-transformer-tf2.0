{
 "cells": [
  {
   "cell_type": "code",
   "execution_count": 1,
   "metadata": {},
   "outputs": [],
   "source": [
    "%load_ext autoreload\n",
    "%autoreload 2"
   ]
  },
  {
   "cell_type": "code",
   "execution_count": 2,
   "metadata": {},
   "outputs": [],
   "source": [
    "import tensorflow_datasets as tfds\n",
    "import tensorflow as tf\n",
    "\n",
    "import time\n",
    "import numpy as np\n",
    "import matplotlib.pyplot as plt\n",
    "\n",
    "from ut_model import *\n",
    "from data_pipeline import input_fn"
   ]
  },
  {
   "cell_type": "code",
   "execution_count": 3,
   "metadata": {},
   "outputs": [
    {
     "data": {
      "text/plain": [
       "'2.1.0'"
      ]
     },
     "execution_count": 3,
     "metadata": {},
     "output_type": "execute_result"
    }
   ],
   "source": [
    "tf.__version__"
   ]
  },
  {
   "cell_type": "code",
   "execution_count": 4,
   "metadata": {},
   "outputs": [],
   "source": [
    "data_dir = \"/media/akanyaani/Disk2/git_repo/test_data\""
   ]
  },
  {
   "cell_type": "code",
   "execution_count": 5,
   "metadata": {},
   "outputs": [],
   "source": [
    "#train_dataset, test_dataset = input_fn(batch_size=16)\n",
    "\n",
    "train_dataset = np.random.randint(low=0,high=30000,size=(10,32, 48))"
   ]
  },
  {
   "cell_type": "code",
   "execution_count": 6,
   "metadata": {},
   "outputs": [
    {
     "name": "stdout",
     "output_type": "stream",
     "text": [
      "(32, 48)\n"
     ]
    }
   ],
   "source": [
    "for i in train_dataset:\n",
    "    print(i.shape)\n",
    "    break"
   ]
  },
  {
   "cell_type": "code",
   "execution_count": 8,
   "metadata": {},
   "outputs": [],
   "source": [
    "model = UTModel(4,\n",
    "                128,\n",
    "                4,\n",
    "                512,\n",
    "                32,\n",
    "                optimizer=\"adam\",\n",
    "                learning_rate=3e-5)\n",
    "\n",
    "model.mirrored_strategy = None"
   ]
  },
  {
   "cell_type": "code",
   "execution_count": 10,
   "metadata": {},
   "outputs": [
    {
     "name": "stdout",
     "output_type": "stream",
     "text": [
      "Initializing model from scratch..........\n"
     ]
    },
    {
     "data": {
      "text/plain": [
       "(<tensorflow.python.ops.summary_ops_v2.ResourceSummaryWriter at 0x7efb4798cbd0>,\n",
       " <tensorflow.python.ops.summary_ops_v2.ResourceSummaryWriter at 0x7efb482263d0>)"
      ]
     },
     "execution_count": 10,
     "metadata": {},
     "output_type": "execute_result"
    }
   ],
   "source": [
    "model.create_optimizer()\n",
    "model.create_checkpoint_manager(data_dir)\n",
    "model.create_summary_writer(data_dir)"
   ]
  },
  {
   "cell_type": "code",
   "execution_count": 9,
   "metadata": {
    "scrolled": true
   },
   "outputs": [
    {
     "name": "stdout",
     "output_type": "stream",
     "text": [
      "(32, 48)\n",
      "(32, 48)\n",
      "embedding shape :-  (32, 48, 128)\n",
      "Final embedding :-  (32, 48, 128)\n",
      "Time step:-----  0\n",
      "Executing time\n",
      "Time pos shape (32, 48)\n",
      "Output shape :-----  (32, 48, 128)\n",
      "Encoder output shape is :-  (32, 48, 128)\n",
      "Time step:-----  1\n",
      "Executing time\n",
      "Time pos shape (32, 48)\n",
      "Output shape :-----  (32, 48, 128)\n",
      "Encoder output shape is :-  (32, 48, 128)\n",
      "Time step:-----  2\n",
      "Executing time\n",
      "Time pos shape (32, 48)\n",
      "Output shape :-----  (32, 48, 128)\n",
      "Encoder output shape is :-  (32, 48, 128)\n",
      "Time step:-----  3\n",
      "Executing time\n",
      "Time pos shape (32, 48)\n",
      "Output shape :-----  (32, 48, 128)\n",
      "Encoder output shape is :-  (32, 48, 128)\n",
      "Executing Decoder Call...............\n",
      "Time step:-----  0\n",
      "Executing time\n",
      "Time pos shape (32, 48)\n",
      "Output shape :-----  (32, 48, 128)\n",
      "Decoder output shape is :-  (32, 48, 128)\n",
      "Time step:-----  1\n",
      "Executing time\n",
      "Time pos shape (32, 48)\n",
      "Output shape :-----  (32, 48, 128)\n",
      "Decoder output shape is :-  (32, 48, 128)\n",
      "Time step:-----  2\n",
      "Executing time\n",
      "Time pos shape (32, 48)\n",
      "Output shape :-----  (32, 48, 128)\n",
      "Decoder output shape is :-  (32, 48, 128)\n",
      "Time step:-----  3\n",
      "Executing time\n",
      "Time pos shape (32, 48)\n",
      "Output shape :-----  (32, 48, 128)\n",
      "Decoder output shape is :-  (32, 48, 128)\n",
      "Mini Batch Loss :-  tf.Tensor(10.378984, shape=(), dtype=float32)\n"
     ]
    },
    {
     "ename": "AttributeError",
     "evalue": "'NoneType' object has no attribute 'apply_gradients'",
     "output_type": "error",
     "traceback": [
      "\u001b[0;31m---------------------------------------------------------------------------\u001b[0m",
      "\u001b[0;31mAttributeError\u001b[0m                            Traceback (most recent call last)",
      "\u001b[0;32m<ipython-input-9-533c745734f2>\u001b[0m in \u001b[0;36m<module>\u001b[0;34m\u001b[0m\n\u001b[0;32m----> 1\u001b[0;31m \u001b[0mmodel\u001b[0m\u001b[0;34m.\u001b[0m\u001b[0mfit\u001b[0m\u001b[0;34m(\u001b[0m\u001b[0;34m[\u001b[0m\u001b[0mtrain_dataset\u001b[0m\u001b[0;34m,\u001b[0m \u001b[0mtrain_dataset\u001b[0m\u001b[0;34m]\u001b[0m\u001b[0;34m)\u001b[0m\u001b[0;34m\u001b[0m\u001b[0;34m\u001b[0m\u001b[0m\n\u001b[0m",
      "\u001b[0;32m/media/akanyaani/Disk2/git_repo/universal-transformer-tensorflow2.0/ut_model.py\u001b[0m in \u001b[0;36mfit\u001b[0;34m(self, dataset)\u001b[0m\n\u001b[1;32m    209\u001b[0m                                 \u001b[0;31m# print(targets.numpy().shape)\u001b[0m\u001b[0;34m\u001b[0m\u001b[0;34m\u001b[0m\u001b[0;34m\u001b[0m\u001b[0m\n\u001b[1;32m    210\u001b[0m \u001b[0;34m\u001b[0m\u001b[0m\n\u001b[0;32m--> 211\u001b[0;31m                                 \u001b[0mtrain_loss\u001b[0m\u001b[0;34m,\u001b[0m \u001b[0mtrain_acc\u001b[0m \u001b[0;34m=\u001b[0m \u001b[0mself\u001b[0m\u001b[0;34m.\u001b[0m\u001b[0mtrain_step\u001b[0m\u001b[0;34m(\u001b[0m\u001b[0minputs\u001b[0m\u001b[0;34m,\u001b[0m \u001b[0minputs\u001b[0m\u001b[0;34m,\u001b[0m \u001b[0mstep\u001b[0m\u001b[0;34m)\u001b[0m\u001b[0;34m\u001b[0m\u001b[0;34m\u001b[0m\u001b[0m\n\u001b[0m\u001b[1;32m    212\u001b[0m                                 \u001b[0;32mif\u001b[0m \u001b[0mstep\u001b[0m \u001b[0;34m%\u001b[0m \u001b[0;36m10\u001b[0m \u001b[0;34m==\u001b[0m \u001b[0;36m0\u001b[0m\u001b[0;34m:\u001b[0m\u001b[0;34m\u001b[0m\u001b[0;34m\u001b[0m\u001b[0m\n\u001b[1;32m    213\u001b[0m \t\t\t\t\tprint('Step {} Train_Loss {:.4f} Train_Accuracy {:.4f}'.format(\n",
      "\u001b[0;32m/media/akanyaani/Disk2/git_repo/universal-transformer-tensorflow2.0/ut_model.py\u001b[0m in \u001b[0;36mtrain_step\u001b[0;34m(self, inputs, targets, step, grad_clip, clip_value)\u001b[0m\n\u001b[1;32m    162\u001b[0m \t\t\t\tgradients = [(tf.clip_by_value(grad, -clip_value, clip_value))\n\u001b[1;32m    163\u001b[0m \t\t\t\t             for grad in gradients]\n\u001b[0;32m--> 164\u001b[0;31m                         \u001b[0mself\u001b[0m\u001b[0;34m.\u001b[0m\u001b[0moptimizer\u001b[0m\u001b[0;34m.\u001b[0m\u001b[0mapply_gradients\u001b[0m\u001b[0;34m(\u001b[0m\u001b[0mzip\u001b[0m\u001b[0;34m(\u001b[0m\u001b[0mgradients\u001b[0m\u001b[0;34m,\u001b[0m \u001b[0mself\u001b[0m\u001b[0;34m.\u001b[0m\u001b[0mtrainable_variables\u001b[0m\u001b[0;34m)\u001b[0m\u001b[0;34m)\u001b[0m\u001b[0;34m\u001b[0m\u001b[0;34m\u001b[0m\u001b[0m\n\u001b[0m\u001b[1;32m    165\u001b[0m \u001b[0;34m\u001b[0m\u001b[0m\n\u001b[1;32m    166\u001b[0m                 \u001b[0maccuracy\u001b[0m \u001b[0;34m=\u001b[0m \u001b[0mself\u001b[0m\u001b[0;34m.\u001b[0m\u001b[0mget_padded_accuracy\u001b[0m\u001b[0;34m(\u001b[0m\u001b[0mtargets\u001b[0m\u001b[0;34m,\u001b[0m \u001b[0mpredictions\u001b[0m\u001b[0;34m)\u001b[0m\u001b[0;34m\u001b[0m\u001b[0;34m\u001b[0m\u001b[0m\n",
      "\u001b[0;31mAttributeError\u001b[0m: 'NoneType' object has no attribute 'apply_gradients'"
     ]
    }
   ],
   "source": [
    "model.fit([train_dataset, train_dataset])"
   ]
  },
  {
   "cell_type": "code",
   "execution_count": null,
   "metadata": {},
   "outputs": [],
   "source": [
    "a = tf.constant([[1]], tf.int32)"
   ]
  },
  {
   "cell_type": "code",
   "execution_count": null,
   "metadata": {},
   "outputs": [],
   "source": [
    "tf.tile(a, [32, 10])"
   ]
  },
  {
   "cell_type": "code",
   "execution_count": null,
   "metadata": {},
   "outputs": [],
   "source": []
  }
 ],
 "metadata": {
  "kernelspec": {
   "display_name": "Python 3",
   "language": "python",
   "name": "python3"
  },
  "language_info": {
   "codemirror_mode": {
    "name": "ipython",
    "version": 3
   },
   "file_extension": ".py",
   "mimetype": "text/x-python",
   "name": "python",
   "nbconvert_exporter": "python",
   "pygments_lexer": "ipython3",
   "version": "3.7.4"
  }
 },
 "nbformat": 4,
 "nbformat_minor": 2
}
